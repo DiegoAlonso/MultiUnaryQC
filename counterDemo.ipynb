{
 "cells": [
  {
   "cell_type": "code",
   "execution_count": 16,
   "metadata": {},
   "outputs": [],
   "source": [
    "import qiskit\n",
    "import qiskit.quantum_info\n",
    "import qiskit.visualization\n",
    "\n",
    "\n"
   ]
  },
  {
   "cell_type": "code",
   "execution_count": 17,
   "metadata": {},
   "outputs": [
    {
     "data": {
      "image/png": "[encoded data removed]",
      "text/plain": [
       "<Figure size 956.183x367.889 with 1 Axes>"
      ]
     },
     "execution_count": 17,
     "metadata": {},
     "output_type": "execute_result"
    }
   ],
   "source": [
    "def oracle_xor_counter(show_output=False, draw='latex'): # latex latex_source\n",
    "    num=1\n",
    "    def show (num):\n",
    "        if show_output: \n",
    "            display(f\"{num}\")\n",
    "            display(qiskit.quantum_info.Statevector(qc).draw(draw))\n",
    "\n",
    "\n",
    "    qbits=qiskit.circuit.QuantumRegister(2, 'q')\n",
    "    ancillas=qiskit.circuit.AncillaRegister(2, 'a') \n",
    "    qc = qiskit.QuantumCircuit(qbits, ancillas)\n",
    "    qc.h(0)\n",
    "    qc.h(1); show (num) ; num+=1\n",
    "    qc.ccx(qbits[0], *ancillas); show (num) ; num+=1    \n",
    "    qc.cx(qbits[0], ancillas[0]); show (num) ; num+=1\n",
    "    qc.ccx(qbits[1], *ancillas); show (num) ; num+=1\n",
    "    qc.cx(qbits[1], ancillas[0]); show (num) ; num+=1\n",
    "    qc.x(ancillas[1]); show (num) ; num+=1\n",
    "    qc.cz(*ancillas); show (num) ; num+=1\n",
    "    # undo\n",
    "    qc.x(ancillas[1]); show (num) ; num+=1\n",
    "    qc.cx(qbits[1], ancillas[0]); show (num) ; num+=1\n",
    "    qc.ccx(qbits[1], *ancillas); show (num) ; num+=1\n",
    "    qc.cx(qbits[0], ancillas[0]); show (num) ; num+=1\n",
    "    qc.ccx(qbits[0], *ancillas); show (num) ; num+=1\n",
    "    return qc\n",
    "\n",
    "oracle_xor_counter().draw(output=\"mpl\", fold=52, plot_barriers=False )"
   ]
  },
  {
   "cell_type": "code",
   "execution_count": 18,
   "metadata": {},
   "outputs": [
    {
     "data": {
      "text/plain": [
       "'1'"
      ]
     },
     "metadata": {},
     "output_type": "display_data"
    },
    {
     "data": {
      "text/latex": [
       "$$\\frac{1}{2} |0000\\rangle+\\frac{1}{2} |0001\\rangle+\\frac{1}{2} |0010\\rangle+\\frac{1}{2} |0011\\rangle$$"
      ],
      "text/plain": [
       "<IPython.core.display.Latex object>"
      ]
     },
     "metadata": {},
     "output_type": "display_data"
    },
    {
     "data": {
      "text/plain": [
       "'2'"
      ]
     },
     "metadata": {},
     "output_type": "display_data"
    },
    {
     "data": {
      "text/latex": [
       "$$\\frac{1}{2} |0000\\rangle+\\frac{1}{2} |0001\\rangle+\\frac{1}{2} |0010\\rangle+\\frac{1}{2} |0011\\rangle$$"
      ],
      "text/plain": [
       "<IPython.core.display.Latex object>"
      ]
     },
     "metadata": {},
     "output_type": "display_data"
    },
    {
     "data": {
      "text/plain": [
       "'3'"
      ]
     },
     "metadata": {},
     "output_type": "display_data"
    },
    {
     "data": {
      "text/latex": [
       "$$\\frac{1}{2} |0000\\rangle+\\frac{1}{2} |0010\\rangle+\\frac{1}{2} |0101\\rangle+\\frac{1}{2} |0111\\rangle$$"
      ],
      "text/plain": [
       "<IPython.core.display.Latex object>"
      ]
     },
     "metadata": {},
     "output_type": "display_data"
    },
    {
     "data": {
      "text/plain": [
       "'4'"
      ]
     },
     "metadata": {},
     "output_type": "display_data"
    },
    {
     "data": {
      "text/latex": [
       "$$\\frac{1}{2} |0000\\rangle+\\frac{1}{2} |0010\\rangle+\\frac{1}{2} |0101\\rangle+\\frac{1}{2} |1111\\rangle$$"
      ],
      "text/plain": [
       "<IPython.core.display.Latex object>"
      ]
     },
     "metadata": {},
     "output_type": "display_data"
    },
    {
     "data": {
      "text/plain": [
       "'5'"
      ]
     },
     "metadata": {},
     "output_type": "display_data"
    },
    {
     "data": {
      "text/latex": [
       "$$\\frac{1}{2} |0000\\rangle+\\frac{1}{2} |0101\\rangle+\\frac{1}{2} |0110\\rangle+\\frac{1}{2} |1011\\rangle$$"
      ],
      "text/plain": [
       "<IPython.core.display.Latex object>"
      ]
     },
     "metadata": {},
     "output_type": "display_data"
    },
    {
     "data": {
      "text/plain": [
       "'6'"
      ]
     },
     "metadata": {},
     "output_type": "display_data"
    },
    {
     "data": {
      "text/latex": [
       "$$\\frac{1}{2} |0011\\rangle+\\frac{1}{2} |1000\\rangle+\\frac{1}{2} |1101\\rangle+\\frac{1}{2} |1110\\rangle$$"
      ],
      "text/plain": [
       "<IPython.core.display.Latex object>"
      ]
     },
     "metadata": {},
     "output_type": "display_data"
    },
    {
     "data": {
      "text/plain": [
       "'7'"
      ]
     },
     "metadata": {},
     "output_type": "display_data"
    },
    {
     "data": {
      "text/latex": [
       "$$\\frac{1}{2} |0011\\rangle+\\frac{1}{2} |1000\\rangle- \\frac{1}{2} |1101\\rangle- \\frac{1}{2} |1110\\rangle$$"
      ],
      "text/plain": [
       "<IPython.core.display.Latex object>"
      ]
     },
     "metadata": {},
     "output_type": "display_data"
    },
    {
     "data": {
      "text/plain": [
       "'8'"
      ]
     },
     "metadata": {},
     "output_type": "display_data"
    },
    {
     "data": {
      "text/latex": [
       "$$\\frac{1}{2} |0000\\rangle- \\frac{1}{2} |0101\\rangle- \\frac{1}{2} |0110\\rangle+\\frac{1}{2} |1011\\rangle$$"
      ],
      "text/plain": [
       "<IPython.core.display.Latex object>"
      ]
     },
     "metadata": {},
     "output_type": "display_data"
    },
    {
     "data": {
      "text/plain": [
       "'9'"
      ]
     },
     "metadata": {},
     "output_type": "display_data"
    },
    {
     "data": {
      "text/latex": [
       "$$\\frac{1}{2} |0000\\rangle- \\frac{1}{2} |0010\\rangle- \\frac{1}{2} |0101\\rangle+\\frac{1}{2} |1111\\rangle$$"
      ],
      "text/plain": [
       "<IPython.core.display.Latex object>"
      ]
     },
     "metadata": {},
     "output_type": "display_data"
    },
    {
     "data": {
      "text/plain": [
       "'10'"
      ]
     },
     "metadata": {},
     "output_type": "display_data"
    },
    {
     "data": {
      "text/latex": [
       "$$\\frac{1}{2} |0000\\rangle- \\frac{1}{2} |0010\\rangle- \\frac{1}{2} |0101\\rangle+\\frac{1}{2} |0111\\rangle$$"
      ],
      "text/plain": [
       "<IPython.core.display.Latex object>"
      ]
     },
     "metadata": {},
     "output_type": "display_data"
    },
    {
     "data": {
      "text/plain": [
       "'11'"
      ]
     },
     "metadata": {},
     "output_type": "display_data"
    },
    {
     "data": {
      "text/latex": [
       "$$\\frac{1}{2} |0000\\rangle- \\frac{1}{2} |0001\\rangle- \\frac{1}{2} |0010\\rangle+\\frac{1}{2} |0011\\rangle$$"
      ],
      "text/plain": [
       "<IPython.core.display.Latex object>"
      ]
     },
     "metadata": {},
     "output_type": "display_data"
    },
    {
     "data": {
      "text/plain": [
       "'12'"
      ]
     },
     "metadata": {},
     "output_type": "display_data"
    },
    {
     "data": {
      "text/latex": [
       "$$\\frac{1}{2} |0000\\rangle- \\frac{1}{2} |0001\\rangle- \\frac{1}{2} |0010\\rangle+\\frac{1}{2} |0011\\rangle$$"
      ],
      "text/plain": [
       "<IPython.core.display.Latex object>"
      ]
     },
     "metadata": {},
     "output_type": "display_data"
    },
    {
     "data": {
      "text/plain": [
       "<qiskit.circuit.quantumcircuit.QuantumCircuit at 0x13294dcd0>"
      ]
     },
     "execution_count": 18,
     "metadata": {},
     "output_type": "execute_result"
    }
   ],
   "source": [
    "oracle_xor_counter(show_output=True, draw='latex')\n"
   ]
  },
  {
   "cell_type": "code",
   "execution_count": 25,
   "metadata": {},
   "outputs": [
    {
     "data": {
      "image/png": "[encoded data removed]",
      "text/plain": [
       "<Figure size 1458.05x451.5 with 1 Axes>"
      ]
     },
     "execution_count": 25,
     "metadata": {},
     "output_type": "execute_result"
    }
   ],
   "source": [
    "def oracle_3q_counter(show_output=False, draw='latex'):\n",
    "    num=0\n",
    "    def show (num):\n",
    "        if show_output: \n",
    "            display(f\"{num}\")\n",
    "            display(qiskit.quantum_info.Statevector(qc).draw(draw))\n",
    "            \n",
    "    qbits=qiskit.circuit.QuantumRegister(3, 'q')\n",
    "    ancillas=qiskit.circuit.AncillaRegister(2, 'a') \n",
    "    qc = qiskit.QuantumCircuit(qbits, ancillas)\n",
    "    qc.h(0)\n",
    "    qc.h(1)\n",
    "    qc.h(2) ; show (num) ; num+=1\n",
    "    qc.ccx(qbits[0], *ancillas) ; show (num) ; num+=1\n",
    "    qc.cx(qbits[0], ancillas[0]); show (num) ; num+=1\n",
    "    qc.ccx(qbits[1], *ancillas); show (num) ; num+=1\n",
    "    qc.cx(qbits[1], ancillas[0]); show (num) ; num+=1\n",
    "    qc.ccx(qbits[2], *ancillas); show (num) ; num+=1\n",
    "    qc.cx(qbits[2], ancillas[0]); show (num) ; num+=1\n",
    "    qc.x(ancillas[0]); show (num) ; num+=1\n",
    "    qc.cz(*ancillas); show (num) ; num+=1    \n",
    "    # undo\n",
    "    qc.x(ancillas[0]); show (num) ; num+=1\n",
    "    qc.cx(qbits[2], ancillas[0]); show (num) ; num+=1\n",
    "    qc.ccx(qbits[2], *ancillas); show (num) ; num+=1\n",
    "    qc.cx(qbits[1], ancillas[0]); show (num) ; num+=1\n",
    "    qc.ccx(qbits[1], *ancillas); show (num) ; num+=1\n",
    "    qc.cx(qbits[0], ancillas[0]); show (num) ; num+=1\n",
    "    qc.ccx(qbits[0], *ancillas); show (num) ; num+=1\n",
    "    return qc\n",
    "\n",
    "oracle_3q_counter().draw(output=\"mpl\")"
   ]
  },
  {
   "cell_type": "code",
   "execution_count": 26,
   "metadata": {},
   "outputs": [
    {
     "data": {
      "text/plain": [
       "'0'"
      ]
     },
     "metadata": {},
     "output_type": "display_data"
    },
    {
     "data": {
      "text/latex": [
       "$$\\frac{\\sqrt{2}}{4} |00000\\rangle+\\frac{\\sqrt{2}}{4} |00001\\rangle+\\frac{\\sqrt{2}}{4} |00010\\rangle+\\frac{\\sqrt{2}}{4} |00011\\rangle+\\frac{\\sqrt{2}}{4} |00100\\rangle+\\frac{\\sqrt{2}}{4} |00101\\rangle+\\frac{\\sqrt{2}}{4} |00110\\rangle+\\frac{\\sqrt{2}}{4} |00111\\rangle$$"
      ],
      "text/plain": [
       "<IPython.core.display.Latex object>"
      ]
     },
     "metadata": {},
     "output_type": "display_data"
    },
    {
     "data": {
      "text/plain": [
       "'1'"
      ]
     },
     "metadata": {},
     "output_type": "display_data"
    },
    {
     "data": {
      "text/latex": [
       "$$\\frac{\\sqrt{2}}{4} |00000\\rangle+\\frac{\\sqrt{2}}{4} |00001\\rangle+\\frac{\\sqrt{2}}{4} |00010\\rangle+\\frac{\\sqrt{2}}{4} |00011\\rangle+\\frac{\\sqrt{2}}{4} |00100\\rangle+\\frac{\\sqrt{2}}{4} |00101\\rangle+\\frac{\\sqrt{2}}{4} |00110\\rangle+\\frac{\\sqrt{2}}{4} |00111\\rangle$$"
      ],
      "text/plain": [
       "<IPython.core.display.Latex object>"
      ]
     },
     "metadata": {},
     "output_type": "display_data"
    },
    {
     "data": {
      "text/plain": [
       "'2'"
      ]
     },
     "metadata": {},
     "output_type": "display_data"
    },
    {
     "data": {
      "text/latex": [
       "$$\\frac{\\sqrt{2}}{4} |00000\\rangle+\\frac{\\sqrt{2}}{4} |00010\\rangle+\\frac{\\sqrt{2}}{4} |00100\\rangle+\\frac{\\sqrt{2}}{4} |00110\\rangle+\\frac{\\sqrt{2}}{4} |01001\\rangle+\\frac{\\sqrt{2}}{4} |01011\\rangle+\\frac{\\sqrt{2}}{4} |01101\\rangle+\\frac{\\sqrt{2}}{4} |01111\\rangle$$"
      ],
      "text/plain": [
       "<IPython.core.display.Latex object>"
      ]
     },
     "metadata": {},
     "output_type": "display_data"
    },
    {
     "data": {
      "text/plain": [
       "'3'"
      ]
     },
     "metadata": {},
     "output_type": "display_data"
    },
    {
     "data": {
      "text/latex": [
       "$$\\frac{\\sqrt{2}}{4} |00000\\rangle+\\frac{\\sqrt{2}}{4} |00010\\rangle+\\frac{\\sqrt{2}}{4} |00100\\rangle+\\frac{\\sqrt{2}}{4} |00110\\rangle+\\frac{\\sqrt{2}}{4} |01001\\rangle+\\frac{\\sqrt{2}}{4} |01101\\rangle+\\frac{\\sqrt{2}}{4} |11011\\rangle+\\frac{\\sqrt{2}}{4} |11111\\rangle$$"
      ],
      "text/plain": [
       "<IPython.core.display.Latex object>"
      ]
     },
     "metadata": {},
     "output_type": "display_data"
    },
    {
     "data": {
      "text/plain": [
       "'4'"
      ]
     },
     "metadata": {},
     "output_type": "display_data"
    },
    {
     "data": {
      "text/latex": [
       "$$\\frac{\\sqrt{2}}{4} |00000\\rangle+\\frac{\\sqrt{2}}{4} |00100\\rangle+\\frac{\\sqrt{2}}{4} |01001\\rangle+\\frac{\\sqrt{2}}{4} |01010\\rangle+\\frac{\\sqrt{2}}{4} |01101\\rangle+\\frac{\\sqrt{2}}{4} |01110\\rangle+\\frac{\\sqrt{2}}{4} |10011\\rangle+\\frac{\\sqrt{2}}{4} |10111\\rangle$$"
      ],
      "text/plain": [
       "<IPython.core.display.Latex object>"
      ]
     },
     "metadata": {},
     "output_type": "display_data"
    },
    {
     "data": {
      "text/plain": [
       "'5'"
      ]
     },
     "metadata": {},
     "output_type": "display_data"
    },
    {
     "data": {
      "text/latex": [
       "$$\\frac{\\sqrt{2}}{4} |00000\\rangle+\\frac{\\sqrt{2}}{4} |00100\\rangle+\\frac{\\sqrt{2}}{4} |01001\\rangle+\\frac{\\sqrt{2}}{4} |01010\\rangle+\\frac{\\sqrt{2}}{4} |10011\\rangle+\\frac{\\sqrt{2}}{4} |10111\\rangle+\\frac{\\sqrt{2}}{4} |11101\\rangle+\\frac{\\sqrt{2}}{4} |11110\\rangle$$"
      ],
      "text/plain": [
       "<IPython.core.display.Latex object>"
      ]
     },
     "metadata": {},
     "output_type": "display_data"
    },
    {
     "data": {
      "text/plain": [
       "'6'"
      ]
     },
     "metadata": {},
     "output_type": "display_data"
    },
    {
     "data": {
      "text/latex": [
       "$$\\frac{\\sqrt{2}}{4} |00000\\rangle+\\frac{\\sqrt{2}}{4} |01001\\rangle+\\frac{\\sqrt{2}}{4} |01010\\rangle+\\frac{\\sqrt{2}}{4} |01100\\rangle+\\frac{\\sqrt{2}}{4} |10011\\rangle+\\frac{\\sqrt{2}}{4} |10101\\rangle+\\frac{\\sqrt{2}}{4} |10110\\rangle+\\frac{\\sqrt{2}}{4} |11111\\rangle$$"
      ],
      "text/plain": [
       "<IPython.core.display.Latex object>"
      ]
     },
     "metadata": {},
     "output_type": "display_data"
    },
    {
     "data": {
      "text/plain": [
       "'7'"
      ]
     },
     "metadata": {},
     "output_type": "display_data"
    },
    {
     "data": {
      "text/latex": [
       "$$\\frac{\\sqrt{2}}{4} |00001\\rangle+\\frac{\\sqrt{2}}{4} |00010\\rangle+\\frac{\\sqrt{2}}{4} |00100\\rangle+\\frac{\\sqrt{2}}{4} |01000\\rangle+\\frac{\\sqrt{2}}{4} |10111\\rangle+\\frac{\\sqrt{2}}{4} |11011\\rangle+\\frac{\\sqrt{2}}{4} |11101\\rangle+\\frac{\\sqrt{2}}{4} |11110\\rangle$$"
      ],
      "text/plain": [
       "<IPython.core.display.Latex object>"
      ]
     },
     "metadata": {},
     "output_type": "display_data"
    },
    {
     "data": {
      "text/plain": [
       "'8'"
      ]
     },
     "metadata": {},
     "output_type": "display_data"
    },
    {
     "data": {
      "text/latex": [
       "$$\\frac{\\sqrt{2}}{4} |00001\\rangle+\\frac{\\sqrt{2}}{4} |00010\\rangle+\\frac{\\sqrt{2}}{4} |00100\\rangle+\\frac{\\sqrt{2}}{4} |01000\\rangle+\\frac{\\sqrt{2}}{4} |10111\\rangle- \\frac{\\sqrt{2}}{4} |11011\\rangle- \\frac{\\sqrt{2}}{4} |11101\\rangle- \\frac{\\sqrt{2}}{4} |11110\\rangle$$"
      ],
      "text/plain": [
       "<IPython.core.display.Latex object>"
      ]
     },
     "metadata": {},
     "output_type": "display_data"
    },
    {
     "data": {
      "text/plain": [
       "'9'"
      ]
     },
     "metadata": {},
     "output_type": "display_data"
    },
    {
     "data": {
      "text/latex": [
       "$$\\frac{\\sqrt{2}}{4} |00000\\rangle+\\frac{\\sqrt{2}}{4} |01001\\rangle+\\frac{\\sqrt{2}}{4} |01010\\rangle+\\frac{\\sqrt{2}}{4} |01100\\rangle- \\frac{\\sqrt{2}}{4} |10011\\rangle- \\frac{\\sqrt{2}}{4} |10101\\rangle- \\frac{\\sqrt{2}}{4} |10110\\rangle+\\frac{\\sqrt{2}}{4} |11111\\rangle$$"
      ],
      "text/plain": [
       "<IPython.core.display.Latex object>"
      ]
     },
     "metadata": {},
     "output_type": "display_data"
    },
    {
     "data": {
      "text/plain": [
       "'10'"
      ]
     },
     "metadata": {},
     "output_type": "display_data"
    },
    {
     "data": {
      "text/latex": [
       "$$\\frac{\\sqrt{2}}{4} |00000\\rangle+\\frac{\\sqrt{2}}{4} |00100\\rangle+\\frac{\\sqrt{2}}{4} |01001\\rangle+\\frac{\\sqrt{2}}{4} |01010\\rangle- \\frac{\\sqrt{2}}{4} |10011\\rangle+\\frac{\\sqrt{2}}{4} |10111\\rangle- \\frac{\\sqrt{2}}{4} |11101\\rangle- \\frac{\\sqrt{2}}{4} |11110\\rangle$$"
      ],
      "text/plain": [
       "<IPython.core.display.Latex object>"
      ]
     },
     "metadata": {},
     "output_type": "display_data"
    },
    {
     "data": {
      "text/plain": [
       "'11'"
      ]
     },
     "metadata": {},
     "output_type": "display_data"
    },
    {
     "data": {
      "text/latex": [
       "$$\\frac{\\sqrt{2}}{4} |00000\\rangle+\\frac{\\sqrt{2}}{4} |00100\\rangle+\\frac{\\sqrt{2}}{4} |01001\\rangle+\\frac{\\sqrt{2}}{4} |01010\\rangle- \\frac{\\sqrt{2}}{4} |01101\\rangle- \\frac{\\sqrt{2}}{4} |01110\\rangle- \\frac{\\sqrt{2}}{4} |10011\\rangle+\\frac{\\sqrt{2}}{4} |10111\\rangle$$"
      ],
      "text/plain": [
       "<IPython.core.display.Latex object>"
      ]
     },
     "metadata": {},
     "output_type": "display_data"
    },
    {
     "data": {
      "text/plain": [
       "'12'"
      ]
     },
     "metadata": {},
     "output_type": "display_data"
    },
    {
     "data": {
      "text/latex": [
       "$$\\frac{\\sqrt{2}}{4} |00000\\rangle+\\frac{\\sqrt{2}}{4} |00010\\rangle+\\frac{\\sqrt{2}}{4} |00100\\rangle- \\frac{\\sqrt{2}}{4} |00110\\rangle+\\frac{\\sqrt{2}}{4} |01001\\rangle- \\frac{\\sqrt{2}}{4} |01101\\rangle- \\frac{\\sqrt{2}}{4} |11011\\rangle+\\frac{\\sqrt{2}}{4} |11111\\rangle$$"
      ],
      "text/plain": [
       "<IPython.core.display.Latex object>"
      ]
     },
     "metadata": {},
     "output_type": "display_data"
    },
    {
     "data": {
      "text/plain": [
       "'13'"
      ]
     },
     "metadata": {},
     "output_type": "display_data"
    },
    {
     "data": {
      "text/latex": [
       "$$\\frac{\\sqrt{2}}{4} |00000\\rangle+\\frac{\\sqrt{2}}{4} |00010\\rangle+\\frac{\\sqrt{2}}{4} |00100\\rangle- \\frac{\\sqrt{2}}{4} |00110\\rangle+\\frac{\\sqrt{2}}{4} |01001\\rangle- \\frac{\\sqrt{2}}{4} |01011\\rangle- \\frac{\\sqrt{2}}{4} |01101\\rangle+\\frac{\\sqrt{2}}{4} |01111\\rangle$$"
      ],
      "text/plain": [
       "<IPython.core.display.Latex object>"
      ]
     },
     "metadata": {},
     "output_type": "display_data"
    },
    {
     "data": {
      "text/plain": [
       "'14'"
      ]
     },
     "metadata": {},
     "output_type": "display_data"
    },
    {
     "data": {
      "text/latex": [
       "$$\\frac{\\sqrt{2}}{4} |00000\\rangle+\\frac{\\sqrt{2}}{4} |00001\\rangle+\\frac{\\sqrt{2}}{4} |00010\\rangle- \\frac{\\sqrt{2}}{4} |00011\\rangle+\\frac{\\sqrt{2}}{4} |00100\\rangle- \\frac{\\sqrt{2}}{4} |00101\\rangle- \\frac{\\sqrt{2}}{4} |00110\\rangle+\\frac{\\sqrt{2}}{4} |00111\\rangle$$"
      ],
      "text/plain": [
       "<IPython.core.display.Latex object>"
      ]
     },
     "metadata": {},
     "output_type": "display_data"
    },
    {
     "data": {
      "text/plain": [
       "'15'"
      ]
     },
     "metadata": {},
     "output_type": "display_data"
    },
    {
     "data": {
      "text/latex": [
       "$$\\frac{\\sqrt{2}}{4} |00000\\rangle+\\frac{\\sqrt{2}}{4} |00001\\rangle+\\frac{\\sqrt{2}}{4} |00010\\rangle- \\frac{\\sqrt{2}}{4} |00011\\rangle+\\frac{\\sqrt{2}}{4} |00100\\rangle- \\frac{\\sqrt{2}}{4} |00101\\rangle- \\frac{\\sqrt{2}}{4} |00110\\rangle+\\frac{\\sqrt{2}}{4} |00111\\rangle$$"
      ],
      "text/plain": [
       "<IPython.core.display.Latex object>"
      ]
     },
     "metadata": {},
     "output_type": "display_data"
    },
    {
     "data": {
      "text/plain": [
       "<qiskit.circuit.quantumcircuit.QuantumCircuit at 0x1083ef290>"
      ]
     },
     "execution_count": 26,
     "metadata": {},
     "output_type": "execute_result"
    }
   ],
   "source": [
    "oracle_3q_counter(show_output=True, draw='latex')"
   ]
  }
 ],
 "metadata": {
  "kernelspec": {
   "display_name": "qiskit1",
   "language": "python",
   "name": "python3"
  },
  "language_info": {
   "codemirror_mode": {
    "name": "ipython",
    "version": 3
   },
   "file_extension": ".py",
   "mimetype": "text/x-python",
   "name": "python",
   "nbconvert_exporter": "python",
   "pygments_lexer": "ipython3",
   "version": "3.12.4"
  }
 },
 "nbformat": 4,
 "nbformat_minor": 2
}
